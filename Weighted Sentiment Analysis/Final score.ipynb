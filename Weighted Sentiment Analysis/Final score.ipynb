{
 "cells": [
  {
   "cell_type": "code",
   "execution_count": 1,
   "metadata": {},
   "outputs": [],
   "source": [
    "import json\n",
    "import csv\n",
    "#import tweepy\n",
    "import re\n",
    "import nltk\n",
    "from nltk.stem import WordNetLemmatizer\n",
    "import pandas as pd\n",
    "#import GetOldTweets3 as got\n",
    "from nltk.corpus import stopwords\n",
    "stopwords = set(stopwords.words('english'))\n",
    "lemmatizer = WordNetLemmatizer()\n",
    "import numpy as np"
   ]
  },
  {
   "cell_type": "code",
   "execution_count": 12,
   "metadata": {},
   "outputs": [],
   "source": [
    "bitsp_t=pd.read_csv('../Datasets/Twitter/Weighted Sentiment/BITSPWeightedSentiment.csv')\n",
    "\n",
    "iitb_t=pd.read_csv('../Datasets/Twitter/Weighted Sentiment/iitbWeightedSentiment.csv')\n",
    "iitm_t=pd.read_csv('../Datasets/Twitter/Weighted Sentiment/IITMWeightedSentiment.csv')\n",
    "lpu_t=pd.read_csv('../Datasets/Twitter/Weighted Sentiment/LPUWeightedSentiment.csv')\n",
    "pes_t=pd.read_csv('../Datasets/Twitter/Weighted Sentiment/PESUWeightedSentiment.csv')\n",
    "vit_t=pd.read_csv('../Datasets/Twitter/Weighted Sentiment/VITWeightedSentiment.csv')\n",
    "\n"
   ]
  },
  {
   "cell_type": "code",
   "execution_count": 15,
   "metadata": {},
   "outputs": [],
   "source": [
    "bitsp_q=pd.read_csv('../Datasets/Quora/WSA/BITSPQuoraWSA.csv')\n",
    "iitb_q=pd.read_csv('../Datasets/Quora/WSA/IITBQuoraWSA.csv')\n",
    "iitm_q=pd.read_csv('../Datasets/Quora/WSA/IITMQuoraWSA.csv')\n",
    "lpu_q=pd.read_csv('../Datasets/Quora/WSA/LPUQuoraWSA.csv')\n",
    "pes_q=pd.read_csv('../Datasets/Quora/WSA/PesuQuoraWSA.csv')\n",
    "vit_q=pd.read_csv('../Datasets/Quora/WSA/VITQuoraWSA.csv')\n"
   ]
  },
  {
   "cell_type": "code",
   "execution_count": 21,
   "metadata": {},
   "outputs": [],
   "source": [
    "bitsp1 = bitsp_t['sentiment_score']\n",
    "bitsp2 = bitsp_q['sentiment_score']\n",
    "iitb1 = iitb_t['sentiment_score']\n",
    "iitb2 = iitb_q['sentiment_score']\n",
    "iitm1 = iitm_t['sentiment_score']\n",
    "iitm2 = bitsp_q['sentiment_score']\n",
    "lpu1 = lpu_t['sentiment_score']\n",
    "lpu2 = lpu_q['sentiment_score']\n",
    "pes1 = pes_t['sentiment_score']\n",
    "pes2 = pes_q['sentiment_score']\n",
    "vit1 = vit_t['sentiment_score']\n",
    "vit2 = vit_q['sentiment_score']"
   ]
  },
  {
   "cell_type": "code",
   "execution_count": 34,
   "metadata": {},
   "outputs": [],
   "source": [
    "f1 = [bitsp1,bitsp2]\n",
    "bits = pd.concat(f1)\n",
    "\n",
    "f2 = [iitb1,iitb2]\n",
    "iitb = pd.concat(f2)\n",
    "\n",
    "f3 = [iitm1,iitm2]\n",
    "iitm = pd.concat(f3)\n",
    "\n",
    "f4 = [lpu1,lpu2]\n",
    "lpu = pd.concat(f4)\n",
    "\n",
    "f5 = [pes1,pes2]\n",
    "pes = pd.concat(f5)\n",
    "\n",
    "f6 = [vit1,vit2]\n",
    "vit = pd.concat(f6)"
   ]
  },
  {
   "cell_type": "code",
   "execution_count": 35,
   "metadata": {},
   "outputs": [
    {
     "data": {
      "text/plain": [
       "0       5\n",
       "1       5\n",
       "2       5\n",
       "3       5\n",
       "4       3\n",
       "       ..\n",
       "2030    5\n",
       "2031    5\n",
       "2032    5\n",
       "2033    3\n",
       "2034    5\n",
       "Name: sentiment_score, Length: 5107, dtype: int64"
      ]
     },
     "execution_count": 35,
     "metadata": {},
     "output_type": "execute_result"
    }
   ],
   "source": [
    "bits"
   ]
  },
  {
   "cell_type": "code",
   "execution_count": 36,
   "metadata": {},
   "outputs": [
    {
     "data": {
      "text/plain": [
       "3.910710789112982"
      ]
     },
     "execution_count": 36,
     "metadata": {},
     "output_type": "execute_result"
    }
   ],
   "source": [
    "bits_score = bits.mean()\n",
    "bits_score"
   ]
  },
  {
   "cell_type": "code",
   "execution_count": 37,
   "metadata": {},
   "outputs": [
    {
     "data": {
      "text/plain": [
       "3.5991027154663517"
      ]
     },
     "execution_count": 37,
     "metadata": {},
     "output_type": "execute_result"
    }
   ],
   "source": [
    "iitm_score = iitm.mean()\n",
    "iitm_score"
   ]
  },
  {
   "cell_type": "code",
   "execution_count": 38,
   "metadata": {},
   "outputs": [
    {
     "data": {
      "text/plain": [
       "3.5749844555428525"
      ]
     },
     "execution_count": 38,
     "metadata": {},
     "output_type": "execute_result"
    }
   ],
   "source": [
    "iitb_score = iitb.mean()\n",
    "iitb_score"
   ]
  },
  {
   "cell_type": "code",
   "execution_count": 39,
   "metadata": {},
   "outputs": [
    {
     "data": {
      "text/plain": [
       "4.625693764283382"
      ]
     },
     "execution_count": 39,
     "metadata": {},
     "output_type": "execute_result"
    }
   ],
   "source": [
    "lpu_score = lpu.mean()\n",
    "lpu_score"
   ]
  },
  {
   "cell_type": "code",
   "execution_count": 40,
   "metadata": {},
   "outputs": [
    {
     "data": {
      "text/plain": [
       "4.1107491856677525"
      ]
     },
     "execution_count": 40,
     "metadata": {},
     "output_type": "execute_result"
    }
   ],
   "source": [
    "vit_score = vit.mean()\n",
    "vit_score"
   ]
  },
  {
   "cell_type": "code",
   "execution_count": 41,
   "metadata": {},
   "outputs": [
    {
     "data": {
      "text/plain": [
       "3.6059757236227825"
      ]
     },
     "execution_count": 41,
     "metadata": {},
     "output_type": "execute_result"
    }
   ],
   "source": [
    "pes_score = pes.mean()\n",
    "pes_score"
   ]
  },
  {
   "cell_type": "code",
   "execution_count": null,
   "metadata": {},
   "outputs": [],
   "source": []
  }
 ],
 "metadata": {
  "kernelspec": {
   "display_name": "Python 3",
   "language": "python",
   "name": "python3"
  },
  "language_info": {
   "codemirror_mode": {
    "name": "ipython",
    "version": 3
   },
   "file_extension": ".py",
   "mimetype": "text/x-python",
   "name": "python",
   "nbconvert_exporter": "python",
   "pygments_lexer": "ipython3",
   "version": "3.7.6"
  }
 },
 "nbformat": 4,
 "nbformat_minor": 4
}
