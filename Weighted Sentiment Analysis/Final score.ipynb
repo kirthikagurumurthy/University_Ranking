{
 "cells": [
  {
   "cell_type": "code",
   "execution_count": 18,
   "metadata": {},
   "outputs": [],
   "source": [
    "import json\n",
    "import csv\n",
    "#import tweepy\n",
    "import re\n",
    "import nltk\n",
    "from nltk.stem import WordNetLemmatizer\n",
    "import pandas as pd\n",
    "#import GetOldTweets3 as got\n",
    "from nltk.corpus import stopwords\n",
    "stopwords = set(stopwords.words('english'))\n",
    "lemmatizer = WordNetLemmatizer()\n",
    "import numpy as np"
   ]
  },
  {
   "cell_type": "code",
   "execution_count": 33,
   "metadata": {},
   "outputs": [],
   "source": [
    "bitsp_t=pd.read_csv('../Datasets/Twitter/Weighted Sentiment/BITSPWeightedSentiment.csv')\n",
    "\n",
    "iitb_t=pd.read_csv('../Datasets/Twitter/Weighted Sentiment/iitbWeightedSentiment.csv')\n",
    "iitm_t=pd.read_csv('../Datasets/Twitter/Weighted Sentiment/IITMWeightedSentiment.csv')\n",
    "lpu_t=pd.read_csv('../Datasets/Twitter/Weighted Sentiment/LPUWeightedSentiment.csv')\n",
    "pes_t=pd.read_csv('../Datasets/Twitter/Weighted Sentiment/PESUWeightedSentiment.csv')\n",
    "vit_t=pd.read_csv('../Datasets/Twitter/Weighted Sentiment/VITWeightedSentiment.csv')\n",
    "\n"
   ]
  },
  {
   "cell_type": "code",
   "execution_count": 34,
   "metadata": {},
   "outputs": [],
   "source": [
    "bitsp_q=pd.read_csv('../Datasets/Quora/WSA/BITSPQuoraWSA.csv')\n",
    "iitb_q=pd.read_csv('../Datasets/Quora/WSA/IITBQuoraWSA.csv')\n",
    "iitm_q=pd.read_csv('../Datasets/Quora/WSA/IITMQuoraWSA.csv')\n",
    "lpu_q=pd.read_csv('../Datasets/Quora/WSA/LPUQuoraWSA.csv')\n",
    "pes_q=pd.read_csv('../Datasets/Quora/WSA/PesuQuoraWSA.csv')\n",
    "vit_q=pd.read_csv('../Datasets/Quora/WSA/VITQuoraWSA.csv')\n"
   ]
  },
  {
   "cell_type": "code",
   "execution_count": 35,
   "metadata": {},
   "outputs": [],
   "source": [
    "bitsp_f=pd.read_csv('../Datasets/Facebook/bits-fb.csv')\n",
    "iitb_f=pd.read_csv('../Datasets/Facebook/iitb_fb.csv')\n",
    "lpu_f=pd.read_csv('../Datasets/Facebook/lpu-fb.csv')\n",
    "vit_f=pd.read_csv('../Datasets/Facebook/vit-fb.csv')"
   ]
  },
  {
   "cell_type": "code",
   "execution_count": 36,
   "metadata": {},
   "outputs": [],
   "source": [
    "bitsp_g=pd.read_csv('../Datasets/Google/bits-gm.csv')\n",
    "lpu_g=pd.read_csv('../Datasets/Google/lpu-gm.csv')\n",
    "pes_g=pd.read_csv('../Datasets/Google/pes-gm.csv')\n",
    "vit_g=pd.read_csv('../Datasets/Google/vit-gm.csv')"
   ]
  },
  {
   "cell_type": "code",
   "execution_count": 49,
   "metadata": {},
   "outputs": [],
   "source": [
    "bitsp1 = bitsp_t['sentiment_score']\n",
    "bitsp2 = bitsp_q['sentiment_score']\n",
    "bitsp3 = bitsp_f['pred']\n",
    "bitsp4 = bitsp_g['fin_pred']\n",
    "iitb1 = iitb_t['sentiment_score']\n",
    "iitb2 = iitb_q['sentiment_score']\n",
    "iitb3 = iitb_f['pred']\n",
    "iitb4 = pd.DataFrame([4.6*2812])\n",
    "iitm1 = iitm_t['sentiment_score']\n",
    "iitm2 = bitsp_q['sentiment_score']\n",
    "iitm3 = pd.DataFrame([4.7*1515])\n",
    "lpu1 = lpu_t['sentiment_score']\n",
    "lpu2 = lpu_q['sentiment_score']\n",
    "lpu3 = lpu_f['pred']\n",
    "lpu4 = lpu_g['fin_pred']\n",
    "pes1 = pes_t['sentiment_score']\n",
    "pes2 = pes_q['sentiment_score']\n",
    "pes3 = pes_g['fin_pred']\n",
    "vit1 = vit_t['sentiment_score']\n",
    "vit2 = vit_q['sentiment_score']\n",
    "vit3 = vit_f['pred']\n",
    "vit4 = vit_g['fin_pred']"
   ]
  },
  {
   "cell_type": "code",
   "execution_count": 50,
   "metadata": {},
   "outputs": [],
   "source": [
    "f1 = [bitsp1,bitsp2,bitsp3,bitsp4]\n",
    "bits = pd.concat(f1)\n",
    "\n",
    "f2 = [iitb1,iitb2,iitb3,iitb4]\n",
    "iitb = pd.concat(f2)\n",
    "\n",
    "f3 = [iitm1,iitm2,iitm3]\n",
    "iitm = pd.concat(f3)\n",
    "\n",
    "f4 = [lpu1,lpu2,lpu3,lpu4]\n",
    "lpu = pd.concat(f4)\n",
    "\n",
    "f5 = [pes1,pes2,pes3]\n",
    "pes = pd.concat(f5)\n",
    "\n",
    "f6 = [vit1,vit2,vit3,vit4]\n",
    "vit = pd.concat(f6)"
   ]
  },
  {
   "cell_type": "code",
   "execution_count": 58,
   "metadata": {},
   "outputs": [
    {
     "data": {
      "text/html": [
       "<div>\n",
       "<style scoped>\n",
       "    .dataframe tbody tr th:only-of-type {\n",
       "        vertical-align: middle;\n",
       "    }\n",
       "\n",
       "    .dataframe tbody tr th {\n",
       "        vertical-align: top;\n",
       "    }\n",
       "\n",
       "    .dataframe thead th {\n",
       "        text-align: right;\n",
       "    }\n",
       "</style>\n",
       "<table border=\"1\" class=\"dataframe\">\n",
       "  <thead>\n",
       "    <tr style=\"text-align: right;\">\n",
       "      <th></th>\n",
       "      <th>0</th>\n",
       "    </tr>\n",
       "  </thead>\n",
       "  <tbody>\n",
       "    <tr>\n",
       "      <th>0</th>\n",
       "      <td>5.0</td>\n",
       "    </tr>\n",
       "    <tr>\n",
       "      <th>1</th>\n",
       "      <td>5.0</td>\n",
       "    </tr>\n",
       "    <tr>\n",
       "      <th>2</th>\n",
       "      <td>5.0</td>\n",
       "    </tr>\n",
       "    <tr>\n",
       "      <th>3</th>\n",
       "      <td>2.0</td>\n",
       "    </tr>\n",
       "    <tr>\n",
       "      <th>4</th>\n",
       "      <td>3.0</td>\n",
       "    </tr>\n",
       "    <tr>\n",
       "      <th>5</th>\n",
       "      <td>5.0</td>\n",
       "    </tr>\n",
       "    <tr>\n",
       "      <th>6</th>\n",
       "      <td>3.0</td>\n",
       "    </tr>\n",
       "    <tr>\n",
       "      <th>7</th>\n",
       "      <td>5.0</td>\n",
       "    </tr>\n",
       "    <tr>\n",
       "      <th>8</th>\n",
       "      <td>3.0</td>\n",
       "    </tr>\n",
       "    <tr>\n",
       "      <th>9</th>\n",
       "      <td>4.0</td>\n",
       "    </tr>\n",
       "    <tr>\n",
       "      <th>10</th>\n",
       "      <td>5.0</td>\n",
       "    </tr>\n",
       "    <tr>\n",
       "      <th>11</th>\n",
       "      <td>5.0</td>\n",
       "    </tr>\n",
       "    <tr>\n",
       "      <th>12</th>\n",
       "      <td>1.0</td>\n",
       "    </tr>\n",
       "    <tr>\n",
       "      <th>13</th>\n",
       "      <td>3.0</td>\n",
       "    </tr>\n",
       "    <tr>\n",
       "      <th>14</th>\n",
       "      <td>3.0</td>\n",
       "    </tr>\n",
       "    <tr>\n",
       "      <th>15</th>\n",
       "      <td>5.0</td>\n",
       "    </tr>\n",
       "    <tr>\n",
       "      <th>16</th>\n",
       "      <td>3.0</td>\n",
       "    </tr>\n",
       "    <tr>\n",
       "      <th>17</th>\n",
       "      <td>3.0</td>\n",
       "    </tr>\n",
       "    <tr>\n",
       "      <th>18</th>\n",
       "      <td>4.0</td>\n",
       "    </tr>\n",
       "    <tr>\n",
       "      <th>19</th>\n",
       "      <td>5.0</td>\n",
       "    </tr>\n",
       "    <tr>\n",
       "      <th>20</th>\n",
       "      <td>5.0</td>\n",
       "    </tr>\n",
       "    <tr>\n",
       "      <th>21</th>\n",
       "      <td>5.0</td>\n",
       "    </tr>\n",
       "    <tr>\n",
       "      <th>22</th>\n",
       "      <td>2.0</td>\n",
       "    </tr>\n",
       "    <tr>\n",
       "      <th>23</th>\n",
       "      <td>3.0</td>\n",
       "    </tr>\n",
       "    <tr>\n",
       "      <th>24</th>\n",
       "      <td>5.0</td>\n",
       "    </tr>\n",
       "    <tr>\n",
       "      <th>25</th>\n",
       "      <td>3.0</td>\n",
       "    </tr>\n",
       "    <tr>\n",
       "      <th>26</th>\n",
       "      <td>5.0</td>\n",
       "    </tr>\n",
       "    <tr>\n",
       "      <th>27</th>\n",
       "      <td>3.0</td>\n",
       "    </tr>\n",
       "    <tr>\n",
       "      <th>28</th>\n",
       "      <td>4.0</td>\n",
       "    </tr>\n",
       "    <tr>\n",
       "      <th>29</th>\n",
       "      <td>5.0</td>\n",
       "    </tr>\n",
       "    <tr>\n",
       "      <th>...</th>\n",
       "      <td>...</td>\n",
       "    </tr>\n",
       "    <tr>\n",
       "      <th>2006</th>\n",
       "      <td>3.0</td>\n",
       "    </tr>\n",
       "    <tr>\n",
       "      <th>2007</th>\n",
       "      <td>2.0</td>\n",
       "    </tr>\n",
       "    <tr>\n",
       "      <th>2008</th>\n",
       "      <td>5.0</td>\n",
       "    </tr>\n",
       "    <tr>\n",
       "      <th>2009</th>\n",
       "      <td>5.0</td>\n",
       "    </tr>\n",
       "    <tr>\n",
       "      <th>2010</th>\n",
       "      <td>1.0</td>\n",
       "    </tr>\n",
       "    <tr>\n",
       "      <th>2011</th>\n",
       "      <td>3.0</td>\n",
       "    </tr>\n",
       "    <tr>\n",
       "      <th>2012</th>\n",
       "      <td>5.0</td>\n",
       "    </tr>\n",
       "    <tr>\n",
       "      <th>2013</th>\n",
       "      <td>5.0</td>\n",
       "    </tr>\n",
       "    <tr>\n",
       "      <th>2014</th>\n",
       "      <td>5.0</td>\n",
       "    </tr>\n",
       "    <tr>\n",
       "      <th>2015</th>\n",
       "      <td>5.0</td>\n",
       "    </tr>\n",
       "    <tr>\n",
       "      <th>2016</th>\n",
       "      <td>5.0</td>\n",
       "    </tr>\n",
       "    <tr>\n",
       "      <th>2017</th>\n",
       "      <td>5.0</td>\n",
       "    </tr>\n",
       "    <tr>\n",
       "      <th>2018</th>\n",
       "      <td>5.0</td>\n",
       "    </tr>\n",
       "    <tr>\n",
       "      <th>2019</th>\n",
       "      <td>3.0</td>\n",
       "    </tr>\n",
       "    <tr>\n",
       "      <th>2020</th>\n",
       "      <td>5.0</td>\n",
       "    </tr>\n",
       "    <tr>\n",
       "      <th>2021</th>\n",
       "      <td>5.0</td>\n",
       "    </tr>\n",
       "    <tr>\n",
       "      <th>2022</th>\n",
       "      <td>5.0</td>\n",
       "    </tr>\n",
       "    <tr>\n",
       "      <th>2023</th>\n",
       "      <td>5.0</td>\n",
       "    </tr>\n",
       "    <tr>\n",
       "      <th>2024</th>\n",
       "      <td>5.0</td>\n",
       "    </tr>\n",
       "    <tr>\n",
       "      <th>2025</th>\n",
       "      <td>2.0</td>\n",
       "    </tr>\n",
       "    <tr>\n",
       "      <th>2026</th>\n",
       "      <td>3.0</td>\n",
       "    </tr>\n",
       "    <tr>\n",
       "      <th>2027</th>\n",
       "      <td>3.0</td>\n",
       "    </tr>\n",
       "    <tr>\n",
       "      <th>2028</th>\n",
       "      <td>4.0</td>\n",
       "    </tr>\n",
       "    <tr>\n",
       "      <th>2029</th>\n",
       "      <td>3.0</td>\n",
       "    </tr>\n",
       "    <tr>\n",
       "      <th>2030</th>\n",
       "      <td>5.0</td>\n",
       "    </tr>\n",
       "    <tr>\n",
       "      <th>2031</th>\n",
       "      <td>5.0</td>\n",
       "    </tr>\n",
       "    <tr>\n",
       "      <th>2032</th>\n",
       "      <td>5.0</td>\n",
       "    </tr>\n",
       "    <tr>\n",
       "      <th>2033</th>\n",
       "      <td>3.0</td>\n",
       "    </tr>\n",
       "    <tr>\n",
       "      <th>2034</th>\n",
       "      <td>5.0</td>\n",
       "    </tr>\n",
       "    <tr>\n",
       "      <th>0</th>\n",
       "      <td>7120.5</td>\n",
       "    </tr>\n",
       "  </tbody>\n",
       "</table>\n",
       "<p>21176 rows × 1 columns</p>\n",
       "</div>"
      ],
      "text/plain": [
       "           0\n",
       "0        5.0\n",
       "1        5.0\n",
       "2        5.0\n",
       "3        2.0\n",
       "4        3.0\n",
       "5        5.0\n",
       "6        3.0\n",
       "7        5.0\n",
       "8        3.0\n",
       "9        4.0\n",
       "10       5.0\n",
       "11       5.0\n",
       "12       1.0\n",
       "13       3.0\n",
       "14       3.0\n",
       "15       5.0\n",
       "16       3.0\n",
       "17       3.0\n",
       "18       4.0\n",
       "19       5.0\n",
       "20       5.0\n",
       "21       5.0\n",
       "22       2.0\n",
       "23       3.0\n",
       "24       5.0\n",
       "25       3.0\n",
       "26       5.0\n",
       "27       3.0\n",
       "28       4.0\n",
       "29       5.0\n",
       "...      ...\n",
       "2006     3.0\n",
       "2007     2.0\n",
       "2008     5.0\n",
       "2009     5.0\n",
       "2010     1.0\n",
       "2011     3.0\n",
       "2012     5.0\n",
       "2013     5.0\n",
       "2014     5.0\n",
       "2015     5.0\n",
       "2016     5.0\n",
       "2017     5.0\n",
       "2018     5.0\n",
       "2019     3.0\n",
       "2020     5.0\n",
       "2021     5.0\n",
       "2022     5.0\n",
       "2023     5.0\n",
       "2024     5.0\n",
       "2025     2.0\n",
       "2026     3.0\n",
       "2027     3.0\n",
       "2028     4.0\n",
       "2029     3.0\n",
       "2030     5.0\n",
       "2031     5.0\n",
       "2032     5.0\n",
       "2033     3.0\n",
       "2034     5.0\n",
       "0     7120.5\n",
       "\n",
       "[21176 rows x 1 columns]"
      ]
     },
     "execution_count": 58,
     "metadata": {},
     "output_type": "execute_result"
    }
   ],
   "source": [
    "iitm"
   ]
  },
  {
   "cell_type": "code",
   "execution_count": 52,
   "metadata": {},
   "outputs": [
    {
     "data": {
      "text/plain": [
       "4.006682577565632"
      ]
     },
     "execution_count": 52,
     "metadata": {},
     "output_type": "execute_result"
    }
   ],
   "source": [
    "bits_score = bits.mean()\n",
    "bits_score"
   ]
  },
  {
   "cell_type": "code",
   "execution_count": 53,
   "metadata": {},
   "outputs": [
    {
     "data": {
      "text/plain": [
       "0    3.935186\n",
       "dtype: float64"
      ]
     },
     "execution_count": 53,
     "metadata": {},
     "output_type": "execute_result"
    }
   ],
   "source": [
    "iitm_score = iitm.mean()\n",
    "iitm_score"
   ]
  },
  {
   "cell_type": "code",
   "execution_count": 54,
   "metadata": {},
   "outputs": [
    {
     "data": {
      "text/plain": [
       "0    3.835035\n",
       "dtype: float64"
      ]
     },
     "execution_count": 54,
     "metadata": {},
     "output_type": "execute_result"
    }
   ],
   "source": [
    "iitb_score = iitb.mean()\n",
    "iitb_score"
   ]
  },
  {
   "cell_type": "code",
   "execution_count": 55,
   "metadata": {},
   "outputs": [
    {
     "data": {
      "text/plain": [
       "4.521183156807027"
      ]
     },
     "execution_count": 55,
     "metadata": {},
     "output_type": "execute_result"
    }
   ],
   "source": [
    "lpu_score = lpu.mean()\n",
    "lpu_score"
   ]
  },
  {
   "cell_type": "code",
   "execution_count": 56,
   "metadata": {},
   "outputs": [
    {
     "data": {
      "text/plain": [
       "4.061547310900202"
      ]
     },
     "execution_count": 56,
     "metadata": {},
     "output_type": "execute_result"
    }
   ],
   "source": [
    "vit_score = vit.mean()\n",
    "vit_score"
   ]
  },
  {
   "cell_type": "code",
   "execution_count": 57,
   "metadata": {},
   "outputs": [
    {
     "data": {
      "text/plain": [
       "3.858058156727452"
      ]
     },
     "execution_count": 57,
     "metadata": {},
     "output_type": "execute_result"
    }
   ],
   "source": [
    "pes_score = pes.mean()\n",
    "pes_score"
   ]
  },
  {
   "cell_type": "code",
   "execution_count": null,
   "metadata": {},
   "outputs": [],
   "source": []
  }
 ],
 "metadata": {
  "kernelspec": {
   "display_name": "Python 3",
   "language": "python",
   "name": "python3"
  },
  "language_info": {
   "codemirror_mode": {
    "name": "ipython",
    "version": 3
   },
   "file_extension": ".py",
   "mimetype": "text/x-python",
   "name": "python",
   "nbconvert_exporter": "python",
   "pygments_lexer": "ipython3",
   "version": "3.7.1"
  }
 },
 "nbformat": 4,
 "nbformat_minor": 4
}
