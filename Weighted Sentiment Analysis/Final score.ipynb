{
 "cells": [
  {
   "cell_type": "code",
   "execution_count": 4,
   "metadata": {},
   "outputs": [],
   "source": [
    "import json\n",
    "import csv\n",
    "#import tweepy\n",
    "import re\n",
    "import nltk\n",
    "from nltk.stem import WordNetLemmatizer\n",
    "import pandas as pd\n",
    "#import GetOldTweets3 as got\n",
    "from nltk.corpus import stopwords\n",
    "stopwords = set(stopwords.words('english'))\n",
    "lemmatizer = WordNetLemmatizer()\n",
    "import numpy as np"
   ]
  },
  {
   "cell_type": "code",
   "execution_count": 61,
   "metadata": {},
   "outputs": [],
   "source": [
    "bitsp_t=pd.read_csv('../Datasets/Twitter/Weighted Sentiment/BITSPWeightedSentiment.csv')\n",
    "\n",
    "iitb_t=pd.read_csv('../Datasets/Twitter/Weighted Sentiment/iitbWeightedSentiment.csv')\n",
    "iitm_t=pd.read_csv('../Datasets/Twitter/Weighted Sentiment/IITMWeightedSentiment.csv')\n",
    "lpu_t=pd.read_csv('../Datasets/Twitter/Weighted Sentiment/LPUWeightedSentiment.csv')\n",
    "pes_t=pd.read_csv('../Datasets/Twitter/Weighted Sentiment/PESUWeightedSentiment.csv')\n",
    "vit_t=pd.read_csv('../Datasets/Twitter/Weighted Sentiment/VITWeightedSentiment.csv')\n",
    "\n",
    "ase_t=pd.read_csv('../Datasets/Twitter/Weighted Sentiment/AUWeightedSentiment.csv')\n",
    "au_t=pd.read_csv('../Datasets/Twitter/Weighted Sentiment/AUWeightedSentiment.csv')\n",
    "anna_t=pd.read_csv('../Datasets/Twitter/Weighted Sentiment/AnnaWeightedSentiment.csv')\n",
    "iiitb_t=pd.read_csv('../Datasets/Twitter/Weighted Sentiment/IIITBWeightedSentiment.csv')\n",
    "srm_t=pd.read_csv('../Datasets/Twitter/Weighted Sentiment/SRMWeightedSentiment.csv')\n",
    "\n"
   ]
  },
  {
   "cell_type": "code",
   "execution_count": 49,
   "metadata": {},
   "outputs": [],
   "source": [
    "bitsp_q=pd.read_csv('../Datasets/Quora/WSA/BITSPQuoraWSA.csv')\n",
    "iitb_q=pd.read_csv('../Datasets/Quora/WSA/IITBQuoraWSA.csv')\n",
    "iitm_q=pd.read_csv('../Datasets/Quora/WSA/IITMQuoraWSA.csv')\n",
    "lpu_q=pd.read_csv('../Datasets/Quora/WSA/LPUQuoraWSA.csv')\n",
    "pes_q=pd.read_csv('../Datasets/Quora/WSA/PESQuoraWSA.csv')\n",
    "vit_q=pd.read_csv('../Datasets/Quora/WSA/VITQuoraWSA.csv')\n",
    "\n",
    "ase_q=pd.read_csv('../Datasets/Quora/WSA/AllianceQuoraWSA.csv')\n",
    "au_q=pd.read_csv('../Datasets/Quora/WSA/AmritaQuoraWSA.csv')\n",
    "anna_q=pd.read_csv('../Datasets/Quora/WSA/AnnaQuoraWSA.csv')\n",
    "iiitb_q=pd.read_csv('../Datasets/Quora/WSA/IIITBQuoraWSA.csv')\n",
    "srm_q=pd.read_csv('../Datasets/Quora/WSA/SRMQuoraWSA.csv')\n",
    "nitk_q=pd.read_csv('../Datasets/Quora/WSA/NITKQuoraWSA.csv')\n"
   ]
  },
  {
   "cell_type": "code",
   "execution_count": 53,
   "metadata": {},
   "outputs": [],
   "source": [
    "bitsp_f=pd.read_csv('../Datasets/Facebook/bits-fb.csv')\n",
    "iitb_f=pd.read_csv('../Datasets/Facebook/iitb_fb.csv')\n",
    "lpu_f=pd.read_csv('../Datasets/Facebook/lpu-fb.csv')\n",
    "vit_f=pd.read_csv('../Datasets/Facebook/vit-fb.csv')\n",
    "\n"
   ]
  },
  {
   "cell_type": "code",
   "execution_count": 54,
   "metadata": {},
   "outputs": [],
   "source": [
    "bitsp_g=pd.read_csv('../Datasets/Google/bits-gm.csv')\n",
    "lpu_g=pd.read_csv('../Datasets/Google/lpu-gm.csv')\n",
    "pes_g=pd.read_csv('../Datasets/Google/pes-gm.csv')\n",
    "vit_g=pd.read_csv('../Datasets/Google/vit-gm.csv')\n",
    "\n"
   ]
  },
  {
   "cell_type": "code",
   "execution_count": 10,
   "metadata": {},
   "outputs": [],
   "source": [
    "bitsp1 = bitsp_t['sentiment_score']\n",
    "bitsp2 = bitsp_q['sentiment_score']\n",
    "bitsp3 = bitsp_f['pred']\n",
    "bitsp4 = bitsp_g['fin_pred']\n",
    "iitb1 = iitb_t['sentiment_score']\n",
    "iitb2 = iitb_q['sentiment_score']\n",
    "iitb3 = iitb_f['pred']\n",
    "iitb4 = pd.DataFrame([4.6*2812])\n",
    "iitm1 = iitm_t['sentiment_score']\n",
    "iitm2 = bitsp_q['sentiment_score']\n",
    "iitm3 = pd.DataFrame([4.7*1515])\n",
    "lpu1 = lpu_t['sentiment_score']\n",
    "lpu2 = lpu_q['sentiment_score']\n",
    "lpu3 = lpu_f['pred']\n",
    "lpu4 = lpu_g['fin_pred']\n",
    "pes1 = pes_t['sentiment_score']\n",
    "pes2 = pes_q['sentiment_score']\n",
    "pes3 = pes_g['fin_pred']\n",
    "vit1 = vit_t['sentiment_score']\n",
    "vit2 = vit_q['sentiment_score']\n",
    "vit3 = vit_f['pred']\n",
    "vit4 = vit_g['fin_pred']"
   ]
  },
  {
   "cell_type": "code",
   "execution_count": 11,
   "metadata": {},
   "outputs": [],
   "source": [
    "f1 = [bitsp1,bitsp2,bitsp3,bitsp4]\n",
    "bits = pd.concat(f1)\n",
    "\n",
    "f2 = [iitb1,iitb2,iitb3,iitb4]\n",
    "iitb = pd.concat(f2)\n",
    "\n",
    "f3 = [iitm1,iitm2,iitm3]\n",
    "iitm = pd.concat(f3)\n",
    "\n",
    "f4 = [lpu1,lpu2,lpu3,lpu4]\n",
    "lpu = pd.concat(f4)\n",
    "\n",
    "f5 = [pes1,pes2,pes3]\n",
    "pes = pd.concat(f5)\n",
    "\n",
    "f6 = [vit1,vit2,vit3,vit4]\n",
    "vit = pd.concat(f6)"
   ]
  },
  {
   "cell_type": "code",
   "execution_count": 27,
   "metadata": {},
   "outputs": [
    {
     "data": {
      "text/html": [
       "<div>\n",
       "<style scoped>\n",
       "    .dataframe tbody tr th:only-of-type {\n",
       "        vertical-align: middle;\n",
       "    }\n",
       "\n",
       "    .dataframe tbody tr th {\n",
       "        vertical-align: top;\n",
       "    }\n",
       "\n",
       "    .dataframe thead th {\n",
       "        text-align: right;\n",
       "    }\n",
       "</style>\n",
       "<table border=\"1\" class=\"dataframe\">\n",
       "  <thead>\n",
       "    <tr style=\"text-align: right;\">\n",
       "      <th></th>\n",
       "      <th>0</th>\n",
       "    </tr>\n",
       "  </thead>\n",
       "  <tbody>\n",
       "    <tr>\n",
       "      <th>0</th>\n",
       "      <td>5.000000</td>\n",
       "    </tr>\n",
       "    <tr>\n",
       "      <th>1</th>\n",
       "      <td>5.000000</td>\n",
       "    </tr>\n",
       "    <tr>\n",
       "      <th>2</th>\n",
       "      <td>5.000000</td>\n",
       "    </tr>\n",
       "    <tr>\n",
       "      <th>3</th>\n",
       "      <td>2.000000</td>\n",
       "    </tr>\n",
       "    <tr>\n",
       "      <th>4</th>\n",
       "      <td>3.000000</td>\n",
       "    </tr>\n",
       "    <tr>\n",
       "      <th>...</th>\n",
       "      <td>...</td>\n",
       "    </tr>\n",
       "    <tr>\n",
       "      <th>2031</th>\n",
       "      <td>4.594725</td>\n",
       "    </tr>\n",
       "    <tr>\n",
       "      <th>2032</th>\n",
       "      <td>4.509200</td>\n",
       "    </tr>\n",
       "    <tr>\n",
       "      <th>2033</th>\n",
       "      <td>4.355800</td>\n",
       "    </tr>\n",
       "    <tr>\n",
       "      <th>2034</th>\n",
       "      <td>5.000000</td>\n",
       "    </tr>\n",
       "    <tr>\n",
       "      <th>0</th>\n",
       "      <td>7120.500000</td>\n",
       "    </tr>\n",
       "  </tbody>\n",
       "</table>\n",
       "<p>21176 rows × 1 columns</p>\n",
       "</div>"
      ],
      "text/plain": [
       "                0\n",
       "0        5.000000\n",
       "1        5.000000\n",
       "2        5.000000\n",
       "3        2.000000\n",
       "4        3.000000\n",
       "...           ...\n",
       "2031     4.594725\n",
       "2032     4.509200\n",
       "2033     4.355800\n",
       "2034     5.000000\n",
       "0     7120.500000\n",
       "\n",
       "[21176 rows x 1 columns]"
      ]
     },
     "execution_count": 27,
     "metadata": {},
     "output_type": "execute_result"
    }
   ],
   "source": [
    "iitm"
   ]
  },
  {
   "cell_type": "code",
   "execution_count": 28,
   "metadata": {},
   "outputs": [
    {
     "data": {
      "text/plain": [
       "3.8348622935631482"
      ]
     },
     "execution_count": 28,
     "metadata": {},
     "output_type": "execute_result"
    }
   ],
   "source": [
    "bits_score = bits.mean()\n",
    "bits_score"
   ]
  },
  {
   "cell_type": "code",
   "execution_count": 29,
   "metadata": {},
   "outputs": [
    {
     "data": {
      "text/plain": [
       "0    3.88419\n",
       "dtype: float64"
      ]
     },
     "execution_count": 29,
     "metadata": {},
     "output_type": "execute_result"
    }
   ],
   "source": [
    "iitm_score = iitm.mean()\n",
    "iitm_score"
   ]
  },
  {
   "cell_type": "code",
   "execution_count": 30,
   "metadata": {},
   "outputs": [
    {
     "data": {
      "text/plain": [
       "0    3.829657\n",
       "dtype: float64"
      ]
     },
     "execution_count": 30,
     "metadata": {},
     "output_type": "execute_result"
    }
   ],
   "source": [
    "iitb_score = iitb.mean()\n",
    "iitb_score"
   ]
  },
  {
   "cell_type": "code",
   "execution_count": 31,
   "metadata": {},
   "outputs": [
    {
     "data": {
      "text/plain": [
       "4.385224402969794"
      ]
     },
     "execution_count": 31,
     "metadata": {},
     "output_type": "execute_result"
    }
   ],
   "source": [
    "lpu_score = lpu.mean()\n",
    "lpu_score"
   ]
  },
  {
   "cell_type": "code",
   "execution_count": 32,
   "metadata": {},
   "outputs": [
    {
     "data": {
      "text/plain": [
       "3.858721706024063"
      ]
     },
     "execution_count": 32,
     "metadata": {},
     "output_type": "execute_result"
    }
   ],
   "source": [
    "vit_score = vit.mean()\n",
    "vit_score"
   ]
  },
  {
   "cell_type": "code",
   "execution_count": 33,
   "metadata": {},
   "outputs": [
    {
     "data": {
      "text/plain": [
       "3.814416059793275"
      ]
     },
     "execution_count": 33,
     "metadata": {},
     "output_type": "execute_result"
    }
   ],
   "source": [
    "pes_score = pes.mean()\n",
    "pes_score"
   ]
  },
  {
   "cell_type": "code",
   "execution_count": 84,
   "metadata": {},
   "outputs": [],
   "source": [
    "#weighted scores for twitter and quora\n",
    "bitsp_t_score= bitsp_t['sentiment_score'].mean()\n",
    "bitsp_q_score = bitsp_q['sentiment_score'].mean()\n",
    "\n",
    "iitb_t_score= iitb_t['sentiment_score'].mean()\n",
    "iitb_q_score = iitb_q['sentiment_score'].mean()\n",
    "\n",
    "iitm_t_score= iitm_t['sentiment_score'].mean()\n",
    "iitm_q_score = iitm_q['sentiment_score'].mean()\n",
    "\n",
    "srm_t_score= srm_t['sentiment_score'].mean()\n",
    "srm_q_score = srm_q['sentiment_score'].mean()\n",
    "\n",
    "vit_t_score= vit_t['sentiment_score'].mean()\n",
    "vit_q_score = vit_q['sentiment_score'].mean()\n",
    "\n",
    "lpu_t_score= lpu_t['sentiment_score'].mean()\n",
    "lpu_q_score = lpu_q['sentiment_score'].mean()\n",
    "\n",
    "iiitb_t_score= iiitb_t['sentiment_score'].mean()\n",
    "iiitb_q_score = iiitb_q['sentiment_score'].mean()\n",
    "\n",
    "pes_t_score= pes_t['sentiment_score'].mean()\n",
    "pes_q_score = pes_q['sentiment_score'].mean()\n",
    "\n",
    "amrita_t_score= ase_t['sentiment_score'].mean()\n",
    "amrita_q_score = ase_q['sentiment_score'].mean()\n",
    "\n",
    "alliance_t_score= au_t['sentiment_score'].mean()\n",
    "alliance_q_score = au_q['sentiment_score'].mean()\n",
    "\n",
    "anna_t_score= anna_t['sentiment_score'].mean()\n",
    "anna_q_score = anna_q['sentiment_score'].mean()\n",
    "\n",
    "#nitk_t_score= nitk_t['sentiment_score'].mean()\n",
    "nitk_q_score =  nitk_q['sentiment_score'].mean()"
   ]
  },
  {
   "cell_type": "code",
   "execution_count": 90,
   "metadata": {},
   "outputs": [],
   "source": [
    "#Weighted score \n",
    "final = pd.DataFrame(columns=['University Name','Twitter weighted score','Quora Weighted score','Facebook Weighted score','Google Reviews Weighted score','Total Weighted score'])"
   ]
  },
  {
   "cell_type": "code",
   "execution_count": 91,
   "metadata": {},
   "outputs": [],
   "source": [
    "final['University Name'] = ['IITB' , 'IITM' , 'BITSP' , 'VIT' , 'LPU' , 'PES', 'AMRITA' ,'ALLIANCE' ,'ANNA','IIITB' ,'NITK','SRM' ]"
   ]
  },
  {
   "cell_type": "code",
   "execution_count": 92,
   "metadata": {},
   "outputs": [],
   "source": [
    "final['Twitter weighted score'] = [iitb_t_score,iitm_t_score,bitsp_t_score,vit_t_score,lpu_t_score,pes_t_score,amrita_t_score,alliance_t_score,anna_t_score,iitb_t_score,0, srm_t_score]"
   ]
  },
  {
   "cell_type": "code",
   "execution_count": 93,
   "metadata": {},
   "outputs": [],
   "source": [
    "final['Quora Weighted score'] = [iitb_q_score,iitm_q_score,bitsp_q_score,vit_q_score,lpu_q_score,pes_q_score,amrita_q_score,alliance_q_score,anna_q_score,iitb_q_score,nitk_q_score, srm_q_score]"
   ]
  },
  {
   "cell_type": "code",
   "execution_count": 94,
   "metadata": {},
   "outputs": [
    {
     "data": {
      "text/html": [
       "<div>\n",
       "<style scoped>\n",
       "    .dataframe tbody tr th:only-of-type {\n",
       "        vertical-align: middle;\n",
       "    }\n",
       "\n",
       "    .dataframe tbody tr th {\n",
       "        vertical-align: top;\n",
       "    }\n",
       "\n",
       "    .dataframe thead th {\n",
       "        text-align: right;\n",
       "    }\n",
       "</style>\n",
       "<table border=\"1\" class=\"dataframe\">\n",
       "  <thead>\n",
       "    <tr style=\"text-align: right;\">\n",
       "      <th></th>\n",
       "      <th>University Name</th>\n",
       "      <th>Twitter weighted score</th>\n",
       "      <th>Quora Weighted score</th>\n",
       "      <th>Facebook Weighted score</th>\n",
       "      <th>Google Reviews Weighted score</th>\n",
       "      <th>Total Weighted score</th>\n",
       "    </tr>\n",
       "  </thead>\n",
       "  <tbody>\n",
       "    <tr>\n",
       "      <th>0</th>\n",
       "      <td>IITB</td>\n",
       "      <td>3.563786</td>\n",
       "      <td>3.943499</td>\n",
       "      <td>NaN</td>\n",
       "      <td>NaN</td>\n",
       "      <td>NaN</td>\n",
       "    </tr>\n",
       "    <tr>\n",
       "      <th>1</th>\n",
       "      <td>IITM</td>\n",
       "      <td>3.526437</td>\n",
       "      <td>3.872712</td>\n",
       "      <td>NaN</td>\n",
       "      <td>NaN</td>\n",
       "      <td>NaN</td>\n",
       "    </tr>\n",
       "    <tr>\n",
       "      <th>2</th>\n",
       "      <td>BITSP</td>\n",
       "      <td>3.664388</td>\n",
       "      <td>3.751897</td>\n",
       "      <td>NaN</td>\n",
       "      <td>NaN</td>\n",
       "      <td>NaN</td>\n",
       "    </tr>\n",
       "    <tr>\n",
       "      <th>3</th>\n",
       "      <td>VIT</td>\n",
       "      <td>3.832773</td>\n",
       "      <td>3.872712</td>\n",
       "      <td>NaN</td>\n",
       "      <td>NaN</td>\n",
       "      <td>NaN</td>\n",
       "    </tr>\n",
       "    <tr>\n",
       "      <th>4</th>\n",
       "      <td>LPU</td>\n",
       "      <td>4.520532</td>\n",
       "      <td>4.363163</td>\n",
       "      <td>NaN</td>\n",
       "      <td>NaN</td>\n",
       "      <td>NaN</td>\n",
       "    </tr>\n",
       "    <tr>\n",
       "      <th>5</th>\n",
       "      <td>PES</td>\n",
       "      <td>3.621074</td>\n",
       "      <td>3.686008</td>\n",
       "      <td>NaN</td>\n",
       "      <td>NaN</td>\n",
       "      <td>NaN</td>\n",
       "    </tr>\n",
       "    <tr>\n",
       "      <th>6</th>\n",
       "      <td>AMRITA</td>\n",
       "      <td>3.173993</td>\n",
       "      <td>4.038437</td>\n",
       "      <td>NaN</td>\n",
       "      <td>NaN</td>\n",
       "      <td>NaN</td>\n",
       "    </tr>\n",
       "    <tr>\n",
       "      <th>7</th>\n",
       "      <td>ALLIANCE</td>\n",
       "      <td>3.173993</td>\n",
       "      <td>3.735550</td>\n",
       "      <td>NaN</td>\n",
       "      <td>NaN</td>\n",
       "      <td>NaN</td>\n",
       "    </tr>\n",
       "    <tr>\n",
       "      <th>8</th>\n",
       "      <td>ANNA</td>\n",
       "      <td>3.349277</td>\n",
       "      <td>3.776490</td>\n",
       "      <td>NaN</td>\n",
       "      <td>NaN</td>\n",
       "      <td>NaN</td>\n",
       "    </tr>\n",
       "    <tr>\n",
       "      <th>9</th>\n",
       "      <td>IIITB</td>\n",
       "      <td>3.563786</td>\n",
       "      <td>3.943499</td>\n",
       "      <td>NaN</td>\n",
       "      <td>NaN</td>\n",
       "      <td>NaN</td>\n",
       "    </tr>\n",
       "    <tr>\n",
       "      <th>10</th>\n",
       "      <td>NITK</td>\n",
       "      <td>0.000000</td>\n",
       "      <td>3.874133</td>\n",
       "      <td>NaN</td>\n",
       "      <td>NaN</td>\n",
       "      <td>NaN</td>\n",
       "    </tr>\n",
       "    <tr>\n",
       "      <th>11</th>\n",
       "      <td>SRM</td>\n",
       "      <td>3.437036</td>\n",
       "      <td>3.735550</td>\n",
       "      <td>NaN</td>\n",
       "      <td>NaN</td>\n",
       "      <td>NaN</td>\n",
       "    </tr>\n",
       "  </tbody>\n",
       "</table>\n",
       "</div>"
      ],
      "text/plain": [
       "   University Name  Twitter weighted score  Quora Weighted score  \\\n",
       "0             IITB                3.563786              3.943499   \n",
       "1             IITM                3.526437              3.872712   \n",
       "2            BITSP                3.664388              3.751897   \n",
       "3              VIT                3.832773              3.872712   \n",
       "4              LPU                4.520532              4.363163   \n",
       "5              PES                3.621074              3.686008   \n",
       "6           AMRITA                3.173993              4.038437   \n",
       "7         ALLIANCE                3.173993              3.735550   \n",
       "8             ANNA                3.349277              3.776490   \n",
       "9            IIITB                3.563786              3.943499   \n",
       "10            NITK                0.000000              3.874133   \n",
       "11             SRM                3.437036              3.735550   \n",
       "\n",
       "   Facebook Weighted score Google Reviews Weighted score Total Weighted score  \n",
       "0                      NaN                           NaN                  NaN  \n",
       "1                      NaN                           NaN                  NaN  \n",
       "2                      NaN                           NaN                  NaN  \n",
       "3                      NaN                           NaN                  NaN  \n",
       "4                      NaN                           NaN                  NaN  \n",
       "5                      NaN                           NaN                  NaN  \n",
       "6                      NaN                           NaN                  NaN  \n",
       "7                      NaN                           NaN                  NaN  \n",
       "8                      NaN                           NaN                  NaN  \n",
       "9                      NaN                           NaN                  NaN  \n",
       "10                     NaN                           NaN                  NaN  \n",
       "11                     NaN                           NaN                  NaN  "
      ]
     },
     "execution_count": 94,
     "metadata": {},
     "output_type": "execute_result"
    }
   ],
   "source": [
    "final"
   ]
  },
  {
   "cell_type": "code",
   "execution_count": 95,
   "metadata": {},
   "outputs": [],
   "source": [
    "final['Total weighted score'] = final.sum(axis = 1)"
   ]
  },
  {
   "cell_type": "code",
   "execution_count": 96,
   "metadata": {},
   "outputs": [
    {
     "data": {
      "text/html": [
       "<div>\n",
       "<style scoped>\n",
       "    .dataframe tbody tr th:only-of-type {\n",
       "        vertical-align: middle;\n",
       "    }\n",
       "\n",
       "    .dataframe tbody tr th {\n",
       "        vertical-align: top;\n",
       "    }\n",
       "\n",
       "    .dataframe thead th {\n",
       "        text-align: right;\n",
       "    }\n",
       "</style>\n",
       "<table border=\"1\" class=\"dataframe\">\n",
       "  <thead>\n",
       "    <tr style=\"text-align: right;\">\n",
       "      <th></th>\n",
       "      <th>University Name</th>\n",
       "      <th>Twitter weighted score</th>\n",
       "      <th>Quora Weighted score</th>\n",
       "      <th>Facebook Weighted score</th>\n",
       "      <th>Google Reviews Weighted score</th>\n",
       "      <th>Total Weighted score</th>\n",
       "      <th>Total weighted score</th>\n",
       "    </tr>\n",
       "  </thead>\n",
       "  <tbody>\n",
       "    <tr>\n",
       "      <th>0</th>\n",
       "      <td>IITB</td>\n",
       "      <td>3.563786</td>\n",
       "      <td>3.943499</td>\n",
       "      <td>NaN</td>\n",
       "      <td>NaN</td>\n",
       "      <td>NaN</td>\n",
       "      <td>7.507285</td>\n",
       "    </tr>\n",
       "    <tr>\n",
       "      <th>1</th>\n",
       "      <td>IITM</td>\n",
       "      <td>3.526437</td>\n",
       "      <td>3.872712</td>\n",
       "      <td>NaN</td>\n",
       "      <td>NaN</td>\n",
       "      <td>NaN</td>\n",
       "      <td>7.399148</td>\n",
       "    </tr>\n",
       "    <tr>\n",
       "      <th>2</th>\n",
       "      <td>BITSP</td>\n",
       "      <td>3.664388</td>\n",
       "      <td>3.751897</td>\n",
       "      <td>NaN</td>\n",
       "      <td>NaN</td>\n",
       "      <td>NaN</td>\n",
       "      <td>7.416285</td>\n",
       "    </tr>\n",
       "    <tr>\n",
       "      <th>3</th>\n",
       "      <td>VIT</td>\n",
       "      <td>3.832773</td>\n",
       "      <td>3.872712</td>\n",
       "      <td>NaN</td>\n",
       "      <td>NaN</td>\n",
       "      <td>NaN</td>\n",
       "      <td>7.705485</td>\n",
       "    </tr>\n",
       "    <tr>\n",
       "      <th>4</th>\n",
       "      <td>LPU</td>\n",
       "      <td>4.520532</td>\n",
       "      <td>4.363163</td>\n",
       "      <td>NaN</td>\n",
       "      <td>NaN</td>\n",
       "      <td>NaN</td>\n",
       "      <td>8.883695</td>\n",
       "    </tr>\n",
       "    <tr>\n",
       "      <th>5</th>\n",
       "      <td>PES</td>\n",
       "      <td>3.621074</td>\n",
       "      <td>3.686008</td>\n",
       "      <td>NaN</td>\n",
       "      <td>NaN</td>\n",
       "      <td>NaN</td>\n",
       "      <td>7.307082</td>\n",
       "    </tr>\n",
       "    <tr>\n",
       "      <th>6</th>\n",
       "      <td>AMRITA</td>\n",
       "      <td>3.173993</td>\n",
       "      <td>4.038437</td>\n",
       "      <td>NaN</td>\n",
       "      <td>NaN</td>\n",
       "      <td>NaN</td>\n",
       "      <td>7.212429</td>\n",
       "    </tr>\n",
       "    <tr>\n",
       "      <th>7</th>\n",
       "      <td>ALLIANCE</td>\n",
       "      <td>3.173993</td>\n",
       "      <td>3.735550</td>\n",
       "      <td>NaN</td>\n",
       "      <td>NaN</td>\n",
       "      <td>NaN</td>\n",
       "      <td>6.909543</td>\n",
       "    </tr>\n",
       "    <tr>\n",
       "      <th>8</th>\n",
       "      <td>ANNA</td>\n",
       "      <td>3.349277</td>\n",
       "      <td>3.776490</td>\n",
       "      <td>NaN</td>\n",
       "      <td>NaN</td>\n",
       "      <td>NaN</td>\n",
       "      <td>7.125767</td>\n",
       "    </tr>\n",
       "    <tr>\n",
       "      <th>9</th>\n",
       "      <td>IIITB</td>\n",
       "      <td>3.563786</td>\n",
       "      <td>3.943499</td>\n",
       "      <td>NaN</td>\n",
       "      <td>NaN</td>\n",
       "      <td>NaN</td>\n",
       "      <td>7.507285</td>\n",
       "    </tr>\n",
       "    <tr>\n",
       "      <th>10</th>\n",
       "      <td>NITK</td>\n",
       "      <td>0.000000</td>\n",
       "      <td>3.874133</td>\n",
       "      <td>NaN</td>\n",
       "      <td>NaN</td>\n",
       "      <td>NaN</td>\n",
       "      <td>3.874133</td>\n",
       "    </tr>\n",
       "    <tr>\n",
       "      <th>11</th>\n",
       "      <td>SRM</td>\n",
       "      <td>3.437036</td>\n",
       "      <td>3.735550</td>\n",
       "      <td>NaN</td>\n",
       "      <td>NaN</td>\n",
       "      <td>NaN</td>\n",
       "      <td>7.172586</td>\n",
       "    </tr>\n",
       "  </tbody>\n",
       "</table>\n",
       "</div>"
      ],
      "text/plain": [
       "   University Name  Twitter weighted score  Quora Weighted score  \\\n",
       "0             IITB                3.563786              3.943499   \n",
       "1             IITM                3.526437              3.872712   \n",
       "2            BITSP                3.664388              3.751897   \n",
       "3              VIT                3.832773              3.872712   \n",
       "4              LPU                4.520532              4.363163   \n",
       "5              PES                3.621074              3.686008   \n",
       "6           AMRITA                3.173993              4.038437   \n",
       "7         ALLIANCE                3.173993              3.735550   \n",
       "8             ANNA                3.349277              3.776490   \n",
       "9            IIITB                3.563786              3.943499   \n",
       "10            NITK                0.000000              3.874133   \n",
       "11             SRM                3.437036              3.735550   \n",
       "\n",
       "   Facebook Weighted score Google Reviews Weighted score Total Weighted score  \\\n",
       "0                      NaN                           NaN                  NaN   \n",
       "1                      NaN                           NaN                  NaN   \n",
       "2                      NaN                           NaN                  NaN   \n",
       "3                      NaN                           NaN                  NaN   \n",
       "4                      NaN                           NaN                  NaN   \n",
       "5                      NaN                           NaN                  NaN   \n",
       "6                      NaN                           NaN                  NaN   \n",
       "7                      NaN                           NaN                  NaN   \n",
       "8                      NaN                           NaN                  NaN   \n",
       "9                      NaN                           NaN                  NaN   \n",
       "10                     NaN                           NaN                  NaN   \n",
       "11                     NaN                           NaN                  NaN   \n",
       "\n",
       "    Total weighted score  \n",
       "0               7.507285  \n",
       "1               7.399148  \n",
       "2               7.416285  \n",
       "3               7.705485  \n",
       "4               8.883695  \n",
       "5               7.307082  \n",
       "6               7.212429  \n",
       "7               6.909543  \n",
       "8               7.125767  \n",
       "9               7.507285  \n",
       "10              3.874133  \n",
       "11              7.172586  "
      ]
     },
     "execution_count": 96,
     "metadata": {},
     "output_type": "execute_result"
    }
   ],
   "source": [
    "final"
   ]
  },
  {
   "cell_type": "code",
   "execution_count": null,
   "metadata": {},
   "outputs": [],
   "source": []
  }
 ],
 "metadata": {
  "kernelspec": {
   "display_name": "Python 3",
   "language": "python",
   "name": "python3"
  },
  "language_info": {
   "codemirror_mode": {
    "name": "ipython",
    "version": 3
   },
   "file_extension": ".py",
   "mimetype": "text/x-python",
   "name": "python",
   "nbconvert_exporter": "python",
   "pygments_lexer": "ipython3",
   "version": "3.7.6"
  }
 },
 "nbformat": 4,
 "nbformat_minor": 4
}
